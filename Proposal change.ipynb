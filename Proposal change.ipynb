{
 "cells": [
  {
   "cell_type": "code",
   "execution_count": 15,
   "id": "0e1ee8b7-9bd6-4e3a-8e74-5725a146e633",
   "metadata": {},
   "outputs": [],
   "source": [
    "library(tidyverse)\n",
    "library(repr)\n",
    "library(tidymodels)\n",
    "options(repr.matrix.max.rows = 6)"
   ]
  },
  {
   "cell_type": "code",
   "execution_count": 18,
   "id": "3c129bed-2fbc-4676-976c-6771bd5c7e31",
   "metadata": {
    "scrolled": true
   },
   "outputs": [
    {
     "name": "stderr",
     "output_type": "stream",
     "text": [
      "\u001b[1mRows: \u001b[22m\u001b[34m6867\u001b[39m \u001b[1mColumns: \u001b[22m\u001b[34m50\u001b[39m\n",
      "\u001b[36m──\u001b[39m \u001b[1mColumn specification\u001b[22m \u001b[36m────────────────────────────────────────────────────────\u001b[39m\n",
      "\u001b[1mDelimiter:\u001b[22m \",\"\n",
      "\u001b[31mchr\u001b[39m (49): tourney_name, surface, tourney_level, winner_seed, winner_entry, w...\n",
      "\u001b[32mdbl\u001b[39m  (1): tourney_id\n",
      "\n",
      "\u001b[36mℹ\u001b[39m Use `spec()` to retrieve the full column specification for this data.\n",
      "\u001b[36mℹ\u001b[39m Specify the column types or set `show_col_types = FALSE` to quiet this message.\n"
     ]
    }
   ],
   "source": [
    "url <- \"https://raw.githubusercontent.com/maxineparedes/dsci100_project_proposal/main/atp2017-2019.csv\"\n",
    "download.file(url, destfile = \"atp2017-2019.csv\")\n",
    "atp_data <- read_csv(\"atp2017-2019.csv\",  col_names = c(\"tourney_id\", \"tourney_name\", \"surface\", \"tourney_level\", \"winner_seed\", \"winner_entry\", \"winner_name\", \"winner_hand\", \"winner_ht\", \"winner_ioc\", \"winner_age\", \"winner_rank\", \"winner_rank_points\", \"loser_seed\", \"loser_entry\", \"loser_name\", \"loser_hand\", \"loser_ht\", \"loser_ioc\", \"loser_age\", \"loser_rank\", \"loser_rank_points\", \"score\", \"best_of\", \"round\", \"minutes\", \"w_ace\", \"w_df\", \"w_svpt\", \"w_1stIn\", \"w_1stWon\", \"w_2ndWon\", \"w_SvGms\", \"w_bpSaved\", \"w_bpFaced\", \"l_ace\", \"l_df\", \"l_svpt\", \"l_1stIn\", \"l_1stWon\", \"l_2ndWon\", \"l_SvGms\", \"l_bpSaved\", \"l_bpFaced\", \"winner_id\", \"loser_id\"))"
   ]
  },
  {
   "cell_type": "code",
   "execution_count": null,
   "id": "4b683393-47a7-447c-8571-edc525d2c059",
   "metadata": {},
   "outputs": [],
   "source": []
  },
  {
   "cell_type": "code",
   "execution_count": null,
   "id": "ea414c14-88e3-486b-815b-5fb90109381c",
   "metadata": {},
   "outputs": [],
   "source": []
  }
 ],
 "metadata": {
  "kernelspec": {
   "display_name": "R",
   "language": "R",
   "name": "ir"
  },
  "language_info": {
   "codemirror_mode": "r",
   "file_extension": ".r",
   "mimetype": "text/x-r-source",
   "name": "R",
   "pygments_lexer": "r",
   "version": "4.3.1"
  }
 },
 "nbformat": 4,
 "nbformat_minor": 5
}
